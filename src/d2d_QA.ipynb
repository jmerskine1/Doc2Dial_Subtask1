import os
from tqdm import tqdm
import json
import argparse
import numpy as np

from datasets import load_dataset
from datasets import load_metric

import spacy

from components import QueryProcessor, DocumentRetrieval, PassageRetrieval, AnswerExtractor
